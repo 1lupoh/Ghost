{
  "nbformat": 4,
  "nbformat_minor": 0,
  "metadata": {
    "colab": {
      "provenance": [],
      "authorship_tag": "ABX9TyOVlCe593cGf23hZ/v565n5",
      "include_colab_link": true
    },
    "kernelspec": {
      "name": "python3",
      "display_name": "Python 3"
    },
    "language_info": {
      "name": "python"
    }
  },
  "cells": [
    {
      "cell_type": "markdown",
      "metadata": {
        "id": "view-in-github",
        "colab_type": "text"
      },
      "source": [
        "<a href=\"https://colab.research.google.com/github/1lupoh/Ghost/blob/main/Regress%C3%A3o_Linear_para_C%C3%A1lculo_de_Aprova%C3%A7%C3%A3o_em_Vestibular.ipynb\" target=\"_parent\"><img src=\"https://colab.research.google.com/assets/colab-badge.svg\" alt=\"Open In Colab\"/></a>"
      ]
    },
    {
      "cell_type": "code",
      "execution_count": 5,
      "metadata": {
        "colab": {
          "base_uri": "https://localhost:8080/",
          "height": 750
        },
        "id": "EHBF0Bw5kV-S",
        "outputId": "fa558b56-d096-4bb1-95ec-9c881a130179"
      },
      "outputs": [
        {
          "name": "stdout",
          "output_type": "stream",
          "text": [
            "Insira o conceito do aluno (A, B, C ou D) ou 'fim' para encerrar: A\n",
            "Insira a frequência do aluno (em porcentagem): 60\n",
            "O aluno passou no vestibular? (sim ou nao): sim\n",
            "Insira o conceito do aluno (A, B, C ou D) ou 'fim' para encerrar: B\n",
            "Insira a frequência do aluno (em porcentagem): 75\n",
            "O aluno passou no vestibular? (sim ou nao): sim\n",
            "Insira o conceito do aluno (A, B, C ou D) ou 'fim' para encerrar: C\n",
            "Insira a frequência do aluno (em porcentagem): 60\n",
            "O aluno passou no vestibular? (sim ou nao): não\n",
            "Insira o conceito do aluno (A, B, C ou D) ou 'fim' para encerrar: D\n",
            "Insira a frequência do aluno (em porcentagem): 100\n",
            "O aluno passou no vestibular? (sim ou nao): não\n",
            "Insira o conceito do aluno (A, B, C ou D) ou 'fim' para encerrar: fim\n"
          ]
        },
        {
          "output_type": "display_data",
          "data": {
            "text/plain": [
              "<Figure size 640x480 with 1 Axes>"
            ],
            "image/png": "[encoded data removed]"
          },
          "metadata": {}
        },
        {
          "output_type": "stream",
          "name": "stdout",
          "text": [
            "Insira o conceito do novo aluno (A, B, C ou D): B\n",
            "Insira a frequência do novo aluno (em porcentagem): 60\n",
            "O aluno provavelmente passou no vestibular.\n"
          ]
        }
      ],
      "source": [
        "import numpy as np\n",
        "import matplotlib.pyplot as plt\n",
        "from matplotlib.colors import ListedColormap\n",
        "from sklearn.linear_model import LogisticRegression\n",
        "\n",
        "# Função para converter o conceito em notas numéricas\n",
        "def conceito_para_nota(conceito):\n",
        "    if conceito == 'A':\n",
        "        return 4\n",
        "    elif conceito == 'B':\n",
        "        return 3\n",
        "    elif conceito == 'C':\n",
        "        return 2\n",
        "    elif conceito == 'D':\n",
        "        return 1\n",
        "    else:\n",
        "        return 0  # Retorna 0 para valores inválidos\n",
        "\n",
        "# Função para treinar o modelo\n",
        "def treinar_modelo(notas, passou):\n",
        "    modelo = LogisticRegression()\n",
        "    modelo.fit(notas, passou)\n",
        "    return modelo\n",
        "\n",
        "# Função para plotar os dados e a linha de decisão\n",
        "def plot_decision_boundary(X, y, modelo):\n",
        "    h = .02  # step size na malha\n",
        "    cmap_light = ListedColormap(['#FFAAAA', '#AAFFAA'])  # cores para os pontos\n",
        "    cmap_bold = ListedColormap(['#FF0000', '#00FF00'])  # cores para as áreas\n",
        "\n",
        "    # Plotar os pontos\n",
        "    plt.scatter(X[:, 0], X[:, 1], c=y, cmap=cmap_bold, edgecolor='k', s=20)\n",
        "    plt.xlabel('Nota')\n",
        "    plt.ylabel('Frequência')\n",
        "\n",
        "    # Plotar a linha de decisão\n",
        "    x_min, x_max = X[:, 0].min() - 1, X[:, 0].max() + 1\n",
        "    y_min, y_max = X[:, 1].min() - 1, X[:, 1].max() + 1\n",
        "    xx, yy = np.meshgrid(np.arange(x_min, x_max, h), np.arange(y_min, y_max, h))\n",
        "    Z = modelo.predict(np.c_[xx.ravel(), yy.ravel()])\n",
        "    Z = Z.reshape(xx.shape)\n",
        "    plt.contourf(xx, yy, Z, cmap=cmap_light, alpha=0.3)\n",
        "\n",
        "# Função para prever se um aluno vai passar ou não no vestibular\n",
        "def prever_passagem(modelo, conceito, frequencia):\n",
        "    nota = conceito_para_nota(conceito)\n",
        "    novo_aluno = np.array([[nota, frequencia]])\n",
        "    previsao = modelo.predict(novo_aluno)\n",
        "    if previsao[0] == 1:\n",
        "        return \"passou\"\n",
        "    else:\n",
        "        return \"não passou\"\n",
        "\n",
        "# Pedir dados dos alunos\n",
        "alunos = []\n",
        "while True:\n",
        "    conceito = input(\"Insira o conceito do aluno (A, B, C ou D) ou 'fim' para encerrar: \")\n",
        "    if conceito.lower() == 'fim':\n",
        "        break\n",
        "    frequencia = float(input(\"Insira a frequência do aluno (em porcentagem): \"))\n",
        "    passou = input(\"O aluno passou no vestibular? (sim ou nao): \")\n",
        "    if passou.lower() == 'sim':\n",
        "        passou = 1\n",
        "    else:\n",
        "        passou = 0\n",
        "    alunos.append({'conceito': conceito, 'frequencia': frequencia, 'passou': passou})\n",
        "\n",
        "# Criar arrays de notas e passou\n",
        "notas = np.array([[conceito_para_nota(aluno['conceito']), aluno['frequencia']] for aluno in alunos])\n",
        "passou = np.array([aluno['passou'] for aluno in alunos])\n",
        "\n",
        "# Treinar o modelo\n",
        "modelo = treinar_modelo(notas, passou)\n",
        "\n",
        "# Plotar os dados e a linha de decisão\n",
        "plot_decision_boundary(notas, passou, modelo)\n",
        "\n",
        "# Plotar detalhes\n",
        "plt.title(\"Decisão de Passagem no Vestibular\")\n",
        "plt.show()\n",
        "\n",
        "# Pedir dados de um novo aluno\n",
        "conceito_novo_aluno = input(\"Insira o conceito do novo aluno (A, B, C ou D): \")\n",
        "frequencia_novo_aluno = float(input(\"Insira a frequência do novo aluno (em porcentagem): \"))\n",
        "\n",
        "# Prever se o novo aluno vai passar ou não no vestibular\n",
        "previsao = prever_passagem(modelo, conceito_novo_aluno, frequencia_novo_aluno)\n",
        "print(f\"O aluno provavelmente {previsao} no vestibular.\")\n",
        "D1"
      ]
    }
  ]
}